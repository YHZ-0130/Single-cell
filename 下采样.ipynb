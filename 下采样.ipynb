{
 "cells": [
  {
   "cell_type": "code",
   "execution_count": 1,
   "metadata": {},
   "outputs": [],
   "source": [
    "import anndata\n",
    "import pandas as pd\n",
    "from pathlib import Path"
   ]
  },
  {
   "attachments": {},
   "cell_type": "markdown",
   "metadata": {},
   "source": [
    "    Laughney肺癌和Lee结直肠癌用于训练。泰洛什头颈癌是用来检测的。在这里，我们使用带注释的数据矩阵(有关详细信息，请参阅AnnData)。"
   ]
  },
  {
   "attachments": {},
   "cell_type": "markdown",
   "metadata": {},
   "source": [
    "    adata.X\t矩阵\tnumpy矩阵\n",
    "    adata.obs\t观测量\tpandas Dataframe\n",
    "    adata.var\t特征量\tpandas Dataframe\n",
    "    adata.uns\t非结构化数据\t字典dict"
   ]
  },
  {
   "cell_type": "code",
   "execution_count": 2,
   "metadata": {},
   "outputs": [],
   "source": [
    "paths = [\n",
    "    Path(\"data/laughney20_lung/\"),\n",
    "    Path(\"data/lee20_crc/\"),\n",
    "    Path(\"data/tirosh17_headneck/\")\n",
    "]\n",
    "names = [\n",
    "    \"laughney\",\n",
    "    \"lee\",\n",
    "    \"tirosh\"\n",
    "]\n",
    "adatas = {}\n",
    "for path, name in zip(paths, names):\n",
    "    adatas[name] = anndata.read_h5ad(path / \"adata.h5ad\")\n",
    "    # Uncomment to perform preprocessing. Here, the loaded anndata objects are already preprocessed. \n",
    "    # adatas[name] = data.preprocess_adata(adatas[name])"
   ]
  },
  {
   "attachments": {},
   "cell_type": "markdown",
   "metadata": {},
   "source": [
    "### 数据分析"
   ]
  },
  {
   "cell_type": "code",
   "execution_count": 3,
   "metadata": {},
   "outputs": [
    {
     "data": {
      "text/plain": [
       "array([[0., 0., 0., ..., 0., 0., 0.]], dtype=float32)"
      ]
     },
     "execution_count": 3,
     "metadata": {},
     "output_type": "execute_result"
    }
   ],
   "source": [
    "adatas['laughney'].X[0].toarray()"
   ]
  },
  {
   "cell_type": "code",
   "execution_count": 10,
   "metadata": {},
   "outputs": [
    {
     "data": {
      "text/html": [
       "<div>\n",
       "<style scoped>\n",
       "    .dataframe tbody tr th:only-of-type {\n",
       "        vertical-align: middle;\n",
       "    }\n",
       "\n",
       "    .dataframe tbody tr th {\n",
       "        vertical-align: top;\n",
       "    }\n",
       "\n",
       "    .dataframe thead th {\n",
       "        text-align: right;\n",
       "    }\n",
       "</style>\n",
       "<table border=\"1\" class=\"dataframe\">\n",
       "  <thead>\n",
       "    <tr style=\"text-align: right;\">\n",
       "      <th></th>\n",
       "      <th>raw</th>\n",
       "      <th>major</th>\n",
       "      <th>major_hallmark_corrected</th>\n",
       "      <th>tier_0</th>\n",
       "      <th>tier_1</th>\n",
       "      <th>tier_2</th>\n",
       "      <th>tier_3</th>\n",
       "      <th>tier_0_hallmark_corrected</th>\n",
       "    </tr>\n",
       "  </thead>\n",
       "  <tbody>\n",
       "    <tr>\n",
       "      <th>0</th>\n",
       "      <td>Tm</td>\n",
       "      <td>Tumor</td>\n",
       "      <td>Immune</td>\n",
       "      <td>Tumor</td>\n",
       "      <td>Immune</td>\n",
       "      <td>Lymphoid</td>\n",
       "      <td>T</td>\n",
       "      <td>Normal</td>\n",
       "    </tr>\n",
       "    <tr>\n",
       "      <th>1</th>\n",
       "      <td>MACROPHAGE</td>\n",
       "      <td>Tumor</td>\n",
       "      <td>Immune</td>\n",
       "      <td>Tumor</td>\n",
       "      <td>Immune</td>\n",
       "      <td>Myeloid</td>\n",
       "      <td>Macrophage</td>\n",
       "      <td>Normal</td>\n",
       "    </tr>\n",
       "    <tr>\n",
       "      <th>2</th>\n",
       "      <td>DENDRITIC</td>\n",
       "      <td>Tumor</td>\n",
       "      <td>Immune</td>\n",
       "      <td>Tumor</td>\n",
       "      <td>Immune</td>\n",
       "      <td>Myeloid</td>\n",
       "      <td>Dendritic</td>\n",
       "      <td>Normal</td>\n",
       "    </tr>\n",
       "    <tr>\n",
       "      <th>3</th>\n",
       "      <td>Tm</td>\n",
       "      <td>Tumor</td>\n",
       "      <td>Immune</td>\n",
       "      <td>Tumor</td>\n",
       "      <td>Immune</td>\n",
       "      <td>Lymphoid</td>\n",
       "      <td>T</td>\n",
       "      <td>Normal</td>\n",
       "    </tr>\n",
       "    <tr>\n",
       "      <th>4</th>\n",
       "      <td>Tm</td>\n",
       "      <td>Tumor</td>\n",
       "      <td>Immune</td>\n",
       "      <td>Tumor</td>\n",
       "      <td>Immune</td>\n",
       "      <td>Lymphoid</td>\n",
       "      <td>T</td>\n",
       "      <td>Normal</td>\n",
       "    </tr>\n",
       "    <tr>\n",
       "      <th>...</th>\n",
       "      <td>...</td>\n",
       "      <td>...</td>\n",
       "      <td>...</td>\n",
       "      <td>...</td>\n",
       "      <td>...</td>\n",
       "      <td>...</td>\n",
       "      <td>...</td>\n",
       "      <td>...</td>\n",
       "    </tr>\n",
       "    <tr>\n",
       "      <th>40500</th>\n",
       "      <td>Tm</td>\n",
       "      <td>Tumor</td>\n",
       "      <td>Immune</td>\n",
       "      <td>Tumor</td>\n",
       "      <td>Immune</td>\n",
       "      <td>Lymphoid</td>\n",
       "      <td>T</td>\n",
       "      <td>Normal</td>\n",
       "    </tr>\n",
       "    <tr>\n",
       "      <th>40501</th>\n",
       "      <td>Tm</td>\n",
       "      <td>Tumor</td>\n",
       "      <td>Immune</td>\n",
       "      <td>Tumor</td>\n",
       "      <td>Immune</td>\n",
       "      <td>Lymphoid</td>\n",
       "      <td>T</td>\n",
       "      <td>Normal</td>\n",
       "    </tr>\n",
       "    <tr>\n",
       "      <th>40502</th>\n",
       "      <td>Tm</td>\n",
       "      <td>Tumor</td>\n",
       "      <td>Immune</td>\n",
       "      <td>Tumor</td>\n",
       "      <td>Immune</td>\n",
       "      <td>Lymphoid</td>\n",
       "      <td>T</td>\n",
       "      <td>Normal</td>\n",
       "    </tr>\n",
       "    <tr>\n",
       "      <th>40503</th>\n",
       "      <td>Tm</td>\n",
       "      <td>Tumor</td>\n",
       "      <td>Immune</td>\n",
       "      <td>Tumor</td>\n",
       "      <td>Immune</td>\n",
       "      <td>Lymphoid</td>\n",
       "      <td>T</td>\n",
       "      <td>Normal</td>\n",
       "    </tr>\n",
       "    <tr>\n",
       "      <th>40504</th>\n",
       "      <td>MACROPHAGE</td>\n",
       "      <td>Tumor</td>\n",
       "      <td>Immune</td>\n",
       "      <td>Tumor</td>\n",
       "      <td>Immune</td>\n",
       "      <td>Myeloid</td>\n",
       "      <td>Macrophage</td>\n",
       "      <td>Normal</td>\n",
       "    </tr>\n",
       "  </tbody>\n",
       "</table>\n",
       "<p>40505 rows × 8 columns</p>\n",
       "</div>"
      ],
      "text/plain": [
       "              raw  major major_hallmark_corrected tier_0  tier_1    tier_2   \n",
       "0              Tm  Tumor                   Immune  Tumor  Immune  Lymphoid  \\\n",
       "1      MACROPHAGE  Tumor                   Immune  Tumor  Immune   Myeloid   \n",
       "2       DENDRITIC  Tumor                   Immune  Tumor  Immune   Myeloid   \n",
       "3              Tm  Tumor                   Immune  Tumor  Immune  Lymphoid   \n",
       "4              Tm  Tumor                   Immune  Tumor  Immune  Lymphoid   \n",
       "...           ...    ...                      ...    ...     ...       ...   \n",
       "40500          Tm  Tumor                   Immune  Tumor  Immune  Lymphoid   \n",
       "40501          Tm  Tumor                   Immune  Tumor  Immune  Lymphoid   \n",
       "40502          Tm  Tumor                   Immune  Tumor  Immune  Lymphoid   \n",
       "40503          Tm  Tumor                   Immune  Tumor  Immune  Lymphoid   \n",
       "40504  MACROPHAGE  Tumor                   Immune  Tumor  Immune   Myeloid   \n",
       "\n",
       "           tier_3 tier_0_hallmark_corrected  \n",
       "0               T                    Normal  \n",
       "1      Macrophage                    Normal  \n",
       "2       Dendritic                    Normal  \n",
       "3               T                    Normal  \n",
       "4               T                    Normal  \n",
       "...           ...                       ...  \n",
       "40500           T                    Normal  \n",
       "40501           T                    Normal  \n",
       "40502           T                    Normal  \n",
       "40503           T                    Normal  \n",
       "40504  Macrophage                    Normal  \n",
       "\n",
       "[40505 rows x 8 columns]"
      ]
     },
     "execution_count": 10,
     "metadata": {},
     "output_type": "execute_result"
    }
   ],
   "source": [
    "data = adatas['laughney'].obs.astype('str')\n",
    "data"
   ]
  },
  {
   "cell_type": "code",
   "execution_count": 11,
   "metadata": {},
   "outputs": [
    {
     "name": "stdout",
     "output_type": "stream",
     "text": [
      "8 columns were label encoded.\n"
     ]
    }
   ],
   "source": [
    "#lets do Lable enconding coding to make more features \n",
    "\n",
    "from sklearn.preprocessing import LabelEncoder\n",
    "\n",
    "\n",
    "le = LabelEncoder()\n",
    "le_count = 0\n",
    "# Iterate through the columns\n",
    "for col in data:\n",
    "    if data[col].dtype == 'object':\n",
    "        # Train on the training data\n",
    "        le.fit(data[col])\n",
    "        # Transform both training and testing data\n",
    "        data[col] = le.transform(data[col])\n",
    "        \n",
    "        \n",
    "        # Keep track of how many columns were label encoded\n",
    "        le_count += 1\n",
    "rawdata = data           \n",
    "print('%d columns were label encoded.' % le_count)"
   ]
  },
  {
   "cell_type": "code",
   "execution_count": 12,
   "metadata": {},
   "outputs": [
    {
     "data": {
      "text/html": [
       "<div>\n",
       "<style scoped>\n",
       "    .dataframe tbody tr th:only-of-type {\n",
       "        vertical-align: middle;\n",
       "    }\n",
       "\n",
       "    .dataframe tbody tr th {\n",
       "        vertical-align: top;\n",
       "    }\n",
       "\n",
       "    .dataframe thead th {\n",
       "        text-align: right;\n",
       "    }\n",
       "</style>\n",
       "<table border=\"1\" class=\"dataframe\">\n",
       "  <thead>\n",
       "    <tr style=\"text-align: right;\">\n",
       "      <th></th>\n",
       "      <th>raw</th>\n",
       "      <th>major</th>\n",
       "      <th>major_hallmark_corrected</th>\n",
       "      <th>tier_0</th>\n",
       "      <th>tier_1</th>\n",
       "      <th>tier_2</th>\n",
       "      <th>tier_3</th>\n",
       "      <th>tier_0_hallmark_corrected</th>\n",
       "    </tr>\n",
       "  </thead>\n",
       "  <tbody>\n",
       "    <tr>\n",
       "      <th>0</th>\n",
       "      <td>18</td>\n",
       "      <td>6</td>\n",
       "      <td>3</td>\n",
       "      <td>1</td>\n",
       "      <td>3</td>\n",
       "      <td>0</td>\n",
       "      <td>6</td>\n",
       "      <td>0</td>\n",
       "    </tr>\n",
       "    <tr>\n",
       "      <th>1</th>\n",
       "      <td>7</td>\n",
       "      <td>6</td>\n",
       "      <td>3</td>\n",
       "      <td>1</td>\n",
       "      <td>3</td>\n",
       "      <td>1</td>\n",
       "      <td>2</td>\n",
       "      <td>0</td>\n",
       "    </tr>\n",
       "    <tr>\n",
       "      <th>2</th>\n",
       "      <td>1</td>\n",
       "      <td>6</td>\n",
       "      <td>3</td>\n",
       "      <td>1</td>\n",
       "      <td>3</td>\n",
       "      <td>1</td>\n",
       "      <td>1</td>\n",
       "      <td>0</td>\n",
       "    </tr>\n",
       "    <tr>\n",
       "      <th>3</th>\n",
       "      <td>18</td>\n",
       "      <td>6</td>\n",
       "      <td>3</td>\n",
       "      <td>1</td>\n",
       "      <td>3</td>\n",
       "      <td>0</td>\n",
       "      <td>6</td>\n",
       "      <td>0</td>\n",
       "    </tr>\n",
       "    <tr>\n",
       "      <th>4</th>\n",
       "      <td>18</td>\n",
       "      <td>6</td>\n",
       "      <td>3</td>\n",
       "      <td>1</td>\n",
       "      <td>3</td>\n",
       "      <td>0</td>\n",
       "      <td>6</td>\n",
       "      <td>0</td>\n",
       "    </tr>\n",
       "    <tr>\n",
       "      <th>...</th>\n",
       "      <td>...</td>\n",
       "      <td>...</td>\n",
       "      <td>...</td>\n",
       "      <td>...</td>\n",
       "      <td>...</td>\n",
       "      <td>...</td>\n",
       "      <td>...</td>\n",
       "      <td>...</td>\n",
       "    </tr>\n",
       "    <tr>\n",
       "      <th>40500</th>\n",
       "      <td>18</td>\n",
       "      <td>6</td>\n",
       "      <td>3</td>\n",
       "      <td>1</td>\n",
       "      <td>3</td>\n",
       "      <td>0</td>\n",
       "      <td>6</td>\n",
       "      <td>0</td>\n",
       "    </tr>\n",
       "    <tr>\n",
       "      <th>40501</th>\n",
       "      <td>18</td>\n",
       "      <td>6</td>\n",
       "      <td>3</td>\n",
       "      <td>1</td>\n",
       "      <td>3</td>\n",
       "      <td>0</td>\n",
       "      <td>6</td>\n",
       "      <td>0</td>\n",
       "    </tr>\n",
       "    <tr>\n",
       "      <th>40502</th>\n",
       "      <td>18</td>\n",
       "      <td>6</td>\n",
       "      <td>3</td>\n",
       "      <td>1</td>\n",
       "      <td>3</td>\n",
       "      <td>0</td>\n",
       "      <td>6</td>\n",
       "      <td>0</td>\n",
       "    </tr>\n",
       "    <tr>\n",
       "      <th>40503</th>\n",
       "      <td>18</td>\n",
       "      <td>6</td>\n",
       "      <td>3</td>\n",
       "      <td>1</td>\n",
       "      <td>3</td>\n",
       "      <td>0</td>\n",
       "      <td>6</td>\n",
       "      <td>0</td>\n",
       "    </tr>\n",
       "    <tr>\n",
       "      <th>40504</th>\n",
       "      <td>7</td>\n",
       "      <td>6</td>\n",
       "      <td>3</td>\n",
       "      <td>1</td>\n",
       "      <td>3</td>\n",
       "      <td>1</td>\n",
       "      <td>2</td>\n",
       "      <td>0</td>\n",
       "    </tr>\n",
       "  </tbody>\n",
       "</table>\n",
       "<p>40505 rows × 8 columns</p>\n",
       "</div>"
      ],
      "text/plain": [
       "       raw  major  major_hallmark_corrected  tier_0  tier_1  tier_2  tier_3   \n",
       "0       18      6                         3       1       3       0       6  \\\n",
       "1        7      6                         3       1       3       1       2   \n",
       "2        1      6                         3       1       3       1       1   \n",
       "3       18      6                         3       1       3       0       6   \n",
       "4       18      6                         3       1       3       0       6   \n",
       "...    ...    ...                       ...     ...     ...     ...     ...   \n",
       "40500   18      6                         3       1       3       0       6   \n",
       "40501   18      6                         3       1       3       0       6   \n",
       "40502   18      6                         3       1       3       0       6   \n",
       "40503   18      6                         3       1       3       0       6   \n",
       "40504    7      6                         3       1       3       1       2   \n",
       "\n",
       "       tier_0_hallmark_corrected  \n",
       "0                              0  \n",
       "1                              0  \n",
       "2                              0  \n",
       "3                              0  \n",
       "4                              0  \n",
       "...                          ...  \n",
       "40500                          0  \n",
       "40501                          0  \n",
       "40502                          0  \n",
       "40503                          0  \n",
       "40504                          0  \n",
       "\n",
       "[40505 rows x 8 columns]"
      ]
     },
     "execution_count": 12,
     "metadata": {},
     "output_type": "execute_result"
    }
   ],
   "source": [
    "data"
   ]
  },
  {
   "cell_type": "code",
   "execution_count": 15,
   "metadata": {},
   "outputs": [
    {
     "data": {
      "text/plain": [
       "tier_0_hallmark_corrected\n",
       "0    39414\n",
       "1     1091\n",
       "Name: count, dtype: int64"
      ]
     },
     "execution_count": 15,
     "metadata": {},
     "output_type": "execute_result"
    }
   ],
   "source": [
    "data.tier_0_hallmark_corrected.value_counts()"
   ]
  },
  {
   "cell_type": "code",
   "execution_count": 13,
   "metadata": {},
   "outputs": [
    {
     "name": "stdout",
     "output_type": "stream",
     "text": [
      "[0 0 0 ... 0 0 0]\n"
     ]
    }
   ],
   "source": [
    "import pandas as pd\n",
    "import xgboost as xgb\n",
    "\n",
    "dataset = data\n",
    "\n",
    "# 将特征和标签分离\n",
    "X = dataset.iloc[:, :-1]\n",
    "y = dataset.iloc[:, -1]\n",
    "\n",
    "# 划分训练集和测试集\n",
    "train_size = int(len(X) * 0.8)\n",
    "train_X, train_y = X[:train_size], y[:train_size]\n",
    "test_X, test_y = X[train_size:], y[train_size:]\n",
    "\n",
    "# 构建XGBoost模型\n",
    "model = xgb.XGBClassifier()\n",
    "\n",
    "# 拟合模型\n",
    "model.fit(train_X, train_y)\n",
    "\n",
    "# 进行预测\n",
    "predictions = model.predict(test_X)\n",
    "\n",
    "# 输出结果\n",
    "print(predictions)\n"
   ]
  },
  {
   "cell_type": "code",
   "execution_count": 17,
   "metadata": {},
   "outputs": [
    {
     "name": "stdout",
     "output_type": "stream",
     "text": [
      "准确率： 1.0\n"
     ]
    }
   ],
   "source": [
    "# 计算准确率\n",
    "from sklearn.metrics import accuracy_score\n",
    "\n",
    "accuracy = accuracy_score(test_y, predictions)\n",
    "\n",
    "print(\"准确率：\", accuracy)"
   ]
  },
  {
   "cell_type": "code",
   "execution_count": 18,
   "metadata": {},
   "outputs": [
    {
     "data": {
      "text/plain": [
       "24"
      ]
     },
     "execution_count": 18,
     "metadata": {},
     "output_type": "execute_result"
    }
   ],
   "source": [
    "test_y.sum()"
   ]
  },
  {
   "cell_type": "code",
   "execution_count": 19,
   "metadata": {},
   "outputs": [
    {
     "data": {
      "text/plain": [
       "24"
      ]
     },
     "execution_count": 19,
     "metadata": {},
     "output_type": "execute_result"
    }
   ],
   "source": [
    "predictions.sum()"
   ]
  },
  {
   "cell_type": "code",
   "execution_count": 27,
   "metadata": {},
   "outputs": [
    {
     "data": {
      "text/plain": [
       "tensor([[1., 1., 1.,  ..., 1., 1., 1.],\n",
       "        [1., 1., 1.,  ..., 1., 1., 1.],\n",
       "        [1., 1., 1.,  ..., 1., 1., 1.],\n",
       "        ...,\n",
       "        [0., 0., 0.,  ..., 0., 0., 0.],\n",
       "        [0., 0., 0.,  ..., 0., 0., 0.],\n",
       "        [0., 0., 0.,  ..., 0., 0., 0.]])"
      ]
     },
     "execution_count": 27,
     "metadata": {},
     "output_type": "execute_result"
    }
   ],
   "source": [
    "data"
   ]
  },
  {
   "cell_type": "code",
   "execution_count": 84,
   "metadata": {},
   "outputs": [],
   "source": [
    "import torch\n",
    "from torch.utils.data import WeightedRandomSampler\n",
    "\n",
    "# 构造样本数据，一共11000个样本，正类样本1000个，负类样本10000个\n",
    "data =  torch.cat([torch.ones(1000,10), torch.zeros(10000,10)])\n",
    "labels = torch.cat([torch.ones(1000), torch.zeros(10000)])\n",
    "\n",
    "# 计算每个样本的权重\n",
    "class_sample_count = torch.Tensor([(labels == t).sum() for t in torch.unique(labels, sorted=True)])\n",
    "weight = 1. / class_sample_count\n",
    "\n",
    "# 将每个样本的权重与其对应的类别编号组合成一个样本-权重对\n",
    "samples_weight = torch.zeros(len(labels))\n",
    "for idx, label in enumerate(labels):\n",
    "    samples_weight[idx] = weight[int(label)]\n",
    "\n",
    "# 使用WeightedRandomSampler创建采样器\n",
    "sampler = WeightedRandomSampler(samples_weight, len(samples_weight))\n",
    "\n",
    "# 使用采样器来创建数据加载器\n",
    "loader = torch.utils.data.DataLoader(dataset, batch_size=32, sampler=sampler)\n"
   ]
  },
  {
   "cell_type": "code",
   "execution_count": 85,
   "metadata": {},
   "outputs": [
    {
     "name": "stdout",
     "output_type": "stream",
     "text": [
      "tensor([1., 1., 0., 1., 1., 0., 0., 0., 1., 0., 0., 0., 0., 1., 1., 1., 1., 0.,\n",
      "        1., 0., 1., 1., 0., 1., 0., 0., 0., 1., 0., 0., 0., 0.])\n"
     ]
    }
   ],
   "source": [
    "for xx,yy in loader:\n",
    "    print(yy)\n",
    "    break"
   ]
  },
  {
   "cell_type": "code",
   "execution_count": 86,
   "metadata": {},
   "outputs": [],
   "source": [
    "import torch\n",
    "from torch.utils.data import WeightedRandomSampler\n",
    "\n",
    "# 构造样本数据，一共11000个样本，正类样本1000个，负类样本10000个\n",
    "data =  torch.cat([torch.ones(1000,10), torch.zeros(10000,10),torch.zeros(10000,10)])\n",
    "labels = torch.cat([torch.ones(1000), torch.zeros(10000),torch.Tensor(10000*[2])])\n",
    "\n",
    "# 计算每个样本的权重\n",
    "class_sample_count = torch.Tensor([(labels == t).sum() for t in torch.unique(labels, sorted=True)])\n",
    "weights = [1.0 / class_sample_count[i] if i==0 else 10.0 / class_sample_count[i] for i in range(len(class_sample_count))]\n",
    "weights = torch.DoubleTensor(weights)\n",
    "samples_weight = weights[labels.long()]\n",
    "\n",
    "# 使用WeightedRandomSampler创建采样器\n",
    "sampler = WeightedRandomSampler(samples_weight, len(samples_weight))\n",
    "\n",
    "# 使用采样器来创建数据加载器\n",
    "dataset = torch.utils.data.TensorDataset(data, labels)\n",
    "loader = torch.utils.data.DataLoader(dataset, batch_size=100, sampler=sampler)\n"
   ]
  },
  {
   "cell_type": "code",
   "execution_count": 87,
   "metadata": {},
   "outputs": [
    {
     "name": "stdout",
     "output_type": "stream",
     "text": [
      "tensor([2., 1., 2., 1., 2., 1., 1., 2., 1., 1., 2., 2., 1., 2., 2., 2., 1., 2.,\n",
      "        2., 2., 2., 2., 2., 2., 2., 1., 2., 1., 1., 1., 1., 2., 1., 1., 1., 1.,\n",
      "        2., 1., 2., 2., 2., 1., 0., 2., 0., 1., 2., 2., 0., 2., 2., 2., 1., 2.,\n",
      "        1., 2., 1., 1., 1., 1., 2., 1., 0., 1., 1., 2., 2., 2., 2., 0., 2., 2.,\n",
      "        0., 2., 2., 1., 1., 1., 2., 2., 1., 0., 1., 1., 1., 1., 2., 1., 1., 2.,\n",
      "        2., 2., 2., 1., 1., 2., 2., 2., 2., 1.])\n"
     ]
    }
   ],
   "source": [
    "for xx,yy in loader:\n",
    "    print(yy)\n",
    "    break"
   ]
  },
  {
   "attachments": {},
   "cell_type": "markdown",
   "metadata": {},
   "source": [
    "### 划分训练测试"
   ]
  },
  {
   "cell_type": "code",
   "execution_count": 89,
   "metadata": {},
   "outputs": [],
   "source": [
    "import torch\n",
    "from torch.utils.data import WeightedRandomSampler, TensorDataset, random_split\n",
    "\n",
    "# 构造样本数据，一共11000个样本，正类样本1000个，负类样本10000个\n",
    "data =  torch.cat([torch.ones(1000,10), torch.zeros(10000,10),torch.zeros(10000,10)])\n",
    "labels = torch.cat([torch.ones(1000), torch.zeros(10000),torch.Tensor(10000*[2])])\n",
    "\n",
    "# 计算每个样本的权重\n",
    "class_sample_count = torch.Tensor([(labels == t).sum() for t in torch.unique(labels, sorted=True)])\n",
    "weights = [1.0 / class_sample_count[i] if i==0 else 10.0 / class_sample_count[i] for i in range(len(class_sample_count))]\n",
    "weights = torch.DoubleTensor(weights)\n",
    "samples_weight = weights[labels.long()]\n",
    "\n",
    "# 使用WeightedRandomSampler创建采样器\n",
    "sampler = WeightedRandomSampler(samples_weight, len(samples_weight))\n",
    "\n",
    "# 创建数据集\n",
    "dataset = TensorDataset(data, labels)\n",
    "\n",
    "# 划分训练集和测试集\n",
    "train_size = int(0.8 * len(dataset))\n",
    "test_size = len(dataset) - train_size\n",
    "train_dataset, test_dataset = random_split(dataset, [train_size, test_size])\n",
    "\n",
    "# 使用采样器来创建训练集的数据加载器\n",
    "train_loader = torch.utils.data.DataLoader(train_dataset, batch_size=100, sampler=sampler)\n",
    "\n",
    "# 创建测试集的数据加载器\n",
    "test_loader = torch.utils.data.DataLoader(test_dataset, batch_size=100, shuffle=True)\n"
   ]
  },
  {
   "cell_type": "code",
   "execution_count": 90,
   "metadata": {},
   "outputs": [
    {
     "name": "stdout",
     "output_type": "stream",
     "text": [
      "tensor([2., 0., 1., 0., 2., 2., 2., 1., 1., 1., 2., 2., 1., 1., 1., 0., 2., 1.,\n",
      "        2., 1., 1., 2., 1., 2., 2., 2., 1., 2., 2., 2., 1., 2., 2., 1., 1., 2.,\n",
      "        2., 2., 2., 2., 1., 2., 1., 2., 2., 2., 1., 2., 1., 2., 1., 2., 2., 1.,\n",
      "        2., 2., 2., 1., 1., 2., 1., 2., 2., 1., 1., 0., 2., 2., 2., 2., 2., 1.,\n",
      "        1., 2., 1., 1., 0., 1., 1., 1., 1., 1., 1., 2., 0., 1., 2., 1., 1., 1.,\n",
      "        1., 1., 1., 2., 2., 1., 1., 1., 1., 2.])\n"
     ]
    }
   ],
   "source": [
    "for xx,yy in loader:\n",
    "    print(yy)\n",
    "    break"
   ]
  },
  {
   "cell_type": "code",
   "execution_count": null,
   "metadata": {},
   "outputs": [],
   "source": []
  }
 ],
 "metadata": {
  "kernelspec": {
   "display_name": "pytorch",
   "language": "python",
   "name": "python3"
  },
  "language_info": {
   "codemirror_mode": {
    "name": "ipython",
    "version": 3
   },
   "file_extension": ".py",
   "mimetype": "text/x-python",
   "name": "python",
   "nbconvert_exporter": "python",
   "pygments_lexer": "ipython3",
   "version": "3.9.12"
  },
  "orig_nbformat": 4
 },
 "nbformat": 4,
 "nbformat_minor": 2
}
