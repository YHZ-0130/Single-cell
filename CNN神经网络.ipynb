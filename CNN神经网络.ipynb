{
 "cells": [
  {
   "cell_type": "code",
   "execution_count": 1,
   "metadata": {},
   "outputs": [],
   "source": [
    "import pandas as pd\n",
    "import torch\n",
    "import torch.nn as nn\n",
    "import numpy as np\n",
    "import torch.optim as optim\n",
    "from torch.utils.data import DataLoader, Dataset\n",
    "from sklearn.preprocessing import StandardScaler\n",
    "from sklearn.model_selection import train_test_split\n",
    "from sklearn.metrics import mean_absolute_error, mean_squared_error, r2_score, mean_absolute_percentage_error\n",
    "from sklearn.preprocessing import LabelEncoder\n",
    "import seaborn as sns\n",
    "import matplotlib.pyplot as plt\n",
    "import warnings\n",
    "warnings.filterwarnings(\"ignore\")"
   ]
  },
  {
   "attachments": {},
   "cell_type": "markdown",
   "metadata": {},
   "source": [
    "### 数据制作和加载"
   ]
  },
  {
   "cell_type": "code",
   "execution_count": 2,
   "metadata": {},
   "outputs": [],
   "source": [
    "from torch.utils.data import random_split\n",
    "from sklearn.preprocessing import StandardScaler\n",
    "from sklearn.preprocessing import LabelEncoder\n",
    "from torch.utils.data import Dataset, DataLoader, WeightedRandomSampler\n",
    "import torch\n",
    "import anndata\n",
    "import pandas as pd\n",
    "from pathlib import Path\n",
    "import numpy as np\n",
    "\n",
    "def array_to_square_matrix(arr):\n",
    "    n = int(np.ceil(np.sqrt(len(arr))))\n",
    "    arr = np.pad(arr, (0, n**2-len(arr)), mode='constant').reshape((n, n))\n",
    "    return np.array(arr,np.float32)\n",
    "\n",
    "\n",
    "class MyDataset(Dataset):\n",
    "    def __init__(self,mode='train'):\n",
    "        # import dataset\n",
    "        data = anndata.read_h5ad(Path(\"data/laughney20_lung/\") / \"adata.h5ad\") \n",
    "        # x1\n",
    "        self.x1 = data.X\n",
    "        # x2\n",
    "        x2 = data.obs.astype('str')\n",
    "        le = LabelEncoder()\n",
    "        le_count = 0\n",
    "        for col in x2:\n",
    "            if x2[col].dtype == 'object':\n",
    "                le.fit(x2[col])\n",
    "                x2[col] = le.transform(x2[col])\n",
    "                le_count += 1\n",
    "        self.y = torch.tensor(x2['tier_0_hallmark_corrected'].values, dtype=torch.long)\n",
    "        x2 = x2.drop('tier_0_hallmark_corrected',axis=1).to_numpy()\n",
    "        scaler = StandardScaler()\n",
    "        x2_scaler = scaler.fit_transform(x2)\n",
    "        self.x2 = x2_scaler\n",
    "        # split\n",
    "        np.random.seed(0)\n",
    "        random_arr = np.random.rand(len(self.y))\n",
    "        mask = random_arr < 0.8\n",
    "        if mode == 'train':\n",
    "            self.x1, self.x2, self.y =  self.x1[mask], self.x2[mask], self.y[mask]\n",
    "        else:\n",
    "            mask = random_arr >= 0.8\n",
    "            self.x1, self.x2, self.y =  self.x1[mask], self.x2[mask], self.y[mask]\n",
    "            \n",
    "    def __len__(self):\n",
    "        return len(self.y)\n",
    "    \n",
    "    def __getitem__(self, idx):\n",
    "        x1 = self.x1[idx].toarray()[0]\n",
    "        return array_to_square_matrix(x1),torch.tensor(self.x2[idx], dtype=torch.float32), self.y[idx]\n",
    "    \n",
    "    def get_sample_weights(self):\n",
    "        class_sample_count = np.unique(self.y, return_counts=True)[1]\n",
    "        weight = 1. / class_sample_count\n",
    "        samples_weight = weight[self.y]\n",
    "        return torch.from_numpy(samples_weight)\n",
    "train_dataset = MyDataset('train')\n",
    "test_dataset = MyDataset('test')\n",
    "samples_weight = train_dataset.get_sample_weights()\n",
    "sampler = WeightedRandomSampler(samples_weight, len(samples_weight))\n",
    "\n",
    "train_loader = DataLoader(dataset=train_dataset, batch_size=2000, sampler=sampler)\n",
    "test_loader = DataLoader(dataset=test_dataset, batch_size=2000)"
   ]
  },
  {
   "cell_type": "code",
   "execution_count": 3,
   "metadata": {},
   "outputs": [],
   "source": [
    "for x1,x2,y in train_loader:\n",
    "    break"
   ]
  },
  {
   "cell_type": "code",
   "execution_count": 4,
   "metadata": {},
   "outputs": [
    {
     "data": {
      "text/plain": [
       "torch.Size([2000, 139, 139])"
      ]
     },
     "execution_count": 4,
     "metadata": {},
     "output_type": "execute_result"
    }
   ],
   "source": [
    "x1.shape"
   ]
  },
  {
   "cell_type": "code",
   "execution_count": 5,
   "metadata": {},
   "outputs": [
    {
     "data": {
      "text/plain": [
       "torch.Size([2000, 2])"
      ]
     },
     "execution_count": 5,
     "metadata": {},
     "output_type": "execute_result"
    }
   ],
   "source": [
    "import torch.nn as nn\n",
    "class Model(torch.nn.Module):\n",
    "    def __init__(self):\n",
    "        super(Model, self).__init__()\n",
    "\n",
    "        ### 特征x1处理层\n",
    "        self.conv1 = nn.Sequential(nn.Conv2d(1, 10, kernel_size=3), nn.MaxPool2d(2), nn.ReLU())\n",
    "        self.conv2 = nn.Sequential(nn.Conv2d(10, 20, kernel_size=3), nn.MaxPool2d(2), nn.ReLU())\n",
    "        self.fc1 = nn.Sequential(nn.Linear(21780, 1024), nn.ReLU())\n",
    "        self.fc2 = nn.Sequential(nn.Linear(1024, 256))\n",
    "        ### 特征x2处理层\n",
    "        self.tabel_layers = nn.Sequential(\n",
    "            nn.Linear(7, 128),\n",
    "            nn.ReLU(),\n",
    "            nn.Dropout(0.05),\n",
    "            nn.Linear(128, 256),\n",
    "            nn.ReLU(),\n",
    "            nn.Dropout(0.05),\n",
    "            nn.Linear(256, 256),\n",
    "            nn.ReLU(),\n",
    "            nn.Dropout(0.05),\n",
    "            nn.Linear(256, 256)\n",
    "        )\n",
    "        self.output = nn.Linear(512, 2)\n",
    "    def forward(self,x1,x2):\n",
    "        batch_size = x1.size(0)\n",
    "        x1 = self.conv1(x1.unsqueeze(1))\n",
    "        x1 = self.conv2(x1)\n",
    "        x1 = x1.view(batch_size, -1)\n",
    "        x1 = self.fc1(x1)\n",
    "        x1 = self.fc2(x1)\n",
    "        x2 = self.tabel_layers(x2)\n",
    "        x = torch.cat([x1,x2],axis=1)\n",
    "        x = self.output(x)\n",
    "        return x\n",
    "\n",
    "\n",
    "# 创建和实例化一个整个模型类的对象\n",
    "model = Model()\n",
    "model(torch.Tensor(2000,139,139),torch.Tensor(2000,7)).shape"
   ]
  },
  {
   "cell_type": "code",
   "execution_count": 6,
   "metadata": {},
   "outputs": [
    {
     "name": "stdout",
     "output_type": "stream",
     "text": [
      "cuda\n",
      "Epoch [1/50], Train Loss: 0.6606, Train Acc: 0.5962, Val Loss: 0.6854, Val Acc: 0.6466\n",
      "Epoch [2/50], Train Loss: 0.6292, Train Acc: 0.8997, Val Loss: 0.6377, Val Acc: 0.9058\n",
      "Epoch [3/50], Train Loss: 0.5967, Train Acc: 0.9607, Val Loss: 0.6020, Val Acc: 0.9374\n",
      "Epoch [4/50], Train Loss: 0.5610, Train Acc: 0.9731, Val Loss: 0.5653, Val Acc: 0.9517\n",
      "Epoch [5/50], Train Loss: 0.5206, Train Acc: 0.9795, Val Loss: 0.5221, Val Acc: 0.9649\n",
      "Epoch [6/50], Train Loss: 0.4763, Train Acc: 0.9840, Val Loss: 0.4734, Val Acc: 0.9781\n",
      "Epoch [7/50], Train Loss: 0.4282, Train Acc: 0.9880, Val Loss: 0.4190, Val Acc: 0.9879\n",
      "Epoch [8/50], Train Loss: 0.3789, Train Acc: 0.9923, Val Loss: 0.3633, Val Acc: 0.9913\n",
      "Epoch [9/50], Train Loss: 0.3274, Train Acc: 0.9942, Val Loss: 0.3193, Val Acc: 0.9902\n",
      "Epoch [10/50], Train Loss: 0.2809, Train Acc: 0.9945, Val Loss: 0.2645, Val Acc: 0.9913\n",
      "Epoch [11/50], Train Loss: 0.2383, Train Acc: 0.9951, Val Loss: 0.2288, Val Acc: 0.9901\n",
      "Epoch [12/50], Train Loss: 0.2012, Train Acc: 0.9947, Val Loss: 0.1897, Val Acc: 0.9908\n",
      "Epoch [13/50], Train Loss: 0.1715, Train Acc: 0.9944, Val Loss: 0.1648, Val Acc: 0.9901\n",
      "Epoch [14/50], Train Loss: 0.1450, Train Acc: 0.9952, Val Loss: 0.1411, Val Acc: 0.9903\n",
      "Epoch [15/50], Train Loss: 0.1251, Train Acc: 0.9954, Val Loss: 0.1230, Val Acc: 0.9898\n",
      "Epoch [16/50], Train Loss: 0.1079, Train Acc: 0.9944, Val Loss: 0.1060, Val Acc: 0.9900\n",
      "Epoch [17/50], Train Loss: 0.0955, Train Acc: 0.9950, Val Loss: 0.0932, Val Acc: 0.9902\n",
      "Epoch [18/50], Train Loss: 0.0829, Train Acc: 0.9958, Val Loss: 0.0841, Val Acc: 0.9898\n",
      "Epoch [19/50], Train Loss: 0.0740, Train Acc: 0.9952, Val Loss: 0.0731, Val Acc: 0.9902\n",
      "Epoch [20/50], Train Loss: 0.0668, Train Acc: 0.9953, Val Loss: 0.0696, Val Acc: 0.9896\n",
      "Epoch [21/50], Train Loss: 0.0602, Train Acc: 0.9954, Val Loss: 0.0617, Val Acc: 0.9897\n",
      "Epoch [22/50], Train Loss: 0.0545, Train Acc: 0.9955, Val Loss: 0.0569, Val Acc: 0.9897\n",
      "Epoch [23/50], Train Loss: 0.0493, Train Acc: 0.9957, Val Loss: 0.0522, Val Acc: 0.9897\n",
      "Epoch [24/50], Train Loss: 0.0461, Train Acc: 0.9954, Val Loss: 0.0485, Val Acc: 0.9898\n",
      "Epoch [25/50], Train Loss: 0.0434, Train Acc: 0.9953, Val Loss: 0.0450, Val Acc: 0.9900\n",
      "Epoch [26/50], Train Loss: 0.0396, Train Acc: 0.9956, Val Loss: 0.0420, Val Acc: 0.9901\n",
      "Epoch [27/50], Train Loss: 0.0355, Train Acc: 0.9963, Val Loss: 0.0403, Val Acc: 0.9900\n",
      "Epoch [28/50], Train Loss: 0.0349, Train Acc: 0.9957, Val Loss: 0.0363, Val Acc: 0.9908\n",
      "Epoch [29/50], Train Loss: 0.0335, Train Acc: 0.9954, Val Loss: 0.0367, Val Acc: 0.9900\n",
      "Epoch [30/50], Train Loss: 0.0310, Train Acc: 0.9957, Val Loss: 0.0345, Val Acc: 0.9902\n",
      "Epoch [31/50], Train Loss: 0.0298, Train Acc: 0.9955, Val Loss: 0.0313, Val Acc: 0.9913\n",
      "Epoch [32/50], Train Loss: 0.0283, Train Acc: 0.9961, Val Loss: 0.0310, Val Acc: 0.9910\n",
      "Epoch [33/50], Train Loss: 0.0278, Train Acc: 0.9949, Val Loss: 0.0286, Val Acc: 0.9915\n",
      "Epoch [34/50], Train Loss: 0.0267, Train Acc: 0.9955, Val Loss: 0.0283, Val Acc: 0.9915\n",
      "Epoch [35/50], Train Loss: 0.0254, Train Acc: 0.9955, Val Loss: 0.0268, Val Acc: 0.9917\n",
      "Epoch [36/50], Train Loss: 0.0235, Train Acc: 0.9961, Val Loss: 0.0266, Val Acc: 0.9915\n",
      "Epoch [37/50], Train Loss: 0.0231, Train Acc: 0.9962, Val Loss: 0.0254, Val Acc: 0.9917\n",
      "Epoch [38/50], Train Loss: 0.0227, Train Acc: 0.9959, Val Loss: 0.0245, Val Acc: 0.9918\n",
      "Epoch [39/50], Train Loss: 0.0217, Train Acc: 0.9959, Val Loss: 0.0235, Val Acc: 0.9922\n",
      "Epoch [40/50], Train Loss: 0.0204, Train Acc: 0.9963, Val Loss: 0.0230, Val Acc: 0.9922\n",
      "Epoch [41/50], Train Loss: 0.0202, Train Acc: 0.9959, Val Loss: 0.0215, Val Acc: 0.9928\n",
      "Epoch [42/50], Train Loss: 0.0194, Train Acc: 0.9961, Val Loss: 0.0207, Val Acc: 0.9933\n",
      "Epoch [43/50], Train Loss: 0.0190, Train Acc: 0.9966, Val Loss: 0.0213, Val Acc: 0.9927\n",
      "Epoch [44/50], Train Loss: 0.0177, Train Acc: 0.9969, Val Loss: 0.0213, Val Acc: 0.9924\n",
      "Epoch [45/50], Train Loss: 0.0168, Train Acc: 0.9970, Val Loss: 0.0206, Val Acc: 0.9927\n",
      "Epoch [46/50], Train Loss: 0.0174, Train Acc: 0.9965, Val Loss: 0.0195, Val Acc: 0.9933\n",
      "Epoch [47/50], Train Loss: 0.0166, Train Acc: 0.9967, Val Loss: 0.0188, Val Acc: 0.9934\n",
      "Epoch [48/50], Train Loss: 0.0160, Train Acc: 0.9967, Val Loss: 0.0185, Val Acc: 0.9934\n",
      "Epoch [49/50], Train Loss: 0.0161, Train Acc: 0.9965, Val Loss: 0.0179, Val Acc: 0.9936\n",
      "Epoch [50/50], Train Loss: 0.0155, Train Acc: 0.9968, Val Loss: 0.0176, Val Acc: 0.9939\n"
     ]
    }
   ],
   "source": [
    "# Define the model, loss function, and optimizer\n",
    "device = torch.device('cuda' if torch.cuda.is_available() else 'cpu')\n",
    "model.to(device)\n",
    "print(device)\n",
    "loss_fn = nn.CrossEntropyLoss() # 交叉熵损失函数\n",
    "optimizer = optim.SGD(model.parameters(), lr=0.005) # 优化器 优化MLP模型的\n",
    "\n",
    "\n",
    "train_loss_list = []\n",
    "train_acc_list = []\n",
    "val_loss_list = []\n",
    "val_acc_list = []\n",
    "\n",
    "epochs = 50\n",
    "\n",
    "# Train the model and evaluate on validation set\n",
    "for epoch in range(epochs):\n",
    "    # Train the model on the training set\n",
    "    model.train()\n",
    "    train_loss = 0.0\n",
    "    train_correct = 0\n",
    "    for i, (x1, x2, labels) in enumerate(train_loader):\n",
    "        # Flatten the image tensors to vectors\n",
    "        x1, x2, labels = x1.float().to(device), x2.to(device), labels.to(device)\n",
    "        # Forward pass\n",
    "        outputs = model(x1,x2)\n",
    "        loss = loss_fn(outputs, labels)\n",
    "        \n",
    "        # Backward pass and optimization\n",
    "        optimizer.zero_grad()\n",
    "        loss.backward()\n",
    "        optimizer.step()\n",
    "        \n",
    "        # Update training loss and accuracy\n",
    "        train_loss += loss.item() * x1.size(0)\n",
    "        _, predicted = torch.max(outputs.data, 1)\n",
    "        train_correct += (predicted == labels).sum().item()\n",
    "        \n",
    "    # Evaluate the model on the validation set\n",
    "    model.eval()\n",
    "    val_loss = 0.0\n",
    "    val_correct = 0\n",
    "    for x1, x2, labels in test_loader:\n",
    "        # Forward pass\n",
    "        x1, x2, labels = x1.to(device), x2.to(device), labels.to(device)\n",
    "        outputs = model(x1,x2)\n",
    "        loss = loss_fn(outputs, labels)\n",
    "        \n",
    "        # Update validation loss and accuracy\n",
    "        val_loss += loss.item() * x1.size(0)\n",
    "        _, predicted = torch.max(outputs.data, 1)\n",
    "        val_correct += (predicted == labels).sum().item()\n",
    "    \n",
    "    # Compute and print the training and validation statistics\n",
    "    train_loss /= len(train_loader.dataset)\n",
    "    train_acc = train_correct / len(train_loader.dataset)\n",
    "    val_loss /= len(test_loader.dataset)\n",
    "    val_acc = val_correct / len(test_loader.dataset)\n",
    "\n",
    "    train_loss_list.append(train_loss)\n",
    "    train_acc_list.append(train_acc)\n",
    "    val_loss_list.append(val_loss)\n",
    "    val_acc_list.append(val_acc)\n",
    "    \n",
    "    print(f'Epoch [{epoch+1}/{epochs}], Train Loss: {train_loss:.4f}, Train Acc: {train_acc:.4f}, Val Loss: {val_loss:.4f}, Val Acc: {val_acc:.4f}')"
   ]
  },
  {
   "cell_type": "code",
   "execution_count": 7,
   "metadata": {},
   "outputs": [
    {
     "data": {
      "image/png": "[encoded data removed]",
      "text/plain": [
       "<Figure size 432x288 with 1 Axes>"
      ]
     },
     "metadata": {
      "needs_background": "light"
     },
     "output_type": "display_data"
    }
   ],
   "source": [
    "import matplotlib.pyplot as plt\n",
    "\n",
    "plt.plot(train_loss_list, label='Training Loss')\n",
    "plt.plot(val_loss_list, label='Validation Loss')\n",
    "plt.legend(loc='upper right')\n",
    "plt.xlabel('Epoch')\n",
    "plt.ylabel('Loss')\n",
    "plt.grid()\n",
    "plt.title('Loss over Epoch')\n",
    "\n",
    "# 显示图形\n",
    "plt.show()\n"
   ]
  },
  {
   "attachments": {},
   "cell_type": "markdown",
   "metadata": {},
   "source": [
    "### 测试集验证"
   ]
  },
  {
   "cell_type": "code",
   "execution_count": 8,
   "metadata": {},
   "outputs": [],
   "source": [
    "true_list = []\n",
    "pred_list = []\n",
    "prob_list = []\n",
    "import numpy as np\n",
    "with torch.no_grad():\n",
    "    for x1, x2, labels in test_loader:\n",
    "        x1, x2 , labels = x1.cuda().float(),x2.cuda().float(), labels.cuda().long()\n",
    "        outputs = model(x1,x2)  # 10,73->10,5\n",
    "        true = labels.data\n",
    "        predic = torch.max(outputs.data, 1)[1].cpu()\n",
    "        prob_list.extend(outputs)\n",
    "        true_list.extend(true)\n",
    "        pred_list.extend(predic)\n",
    "true = np.array([int(x) for x in true_list])\n",
    "predic = np.array([int(x) for x in pred_list])\n",
    "probe = np.array([list(x.cpu().data.numpy()) for x in prob_list])"
   ]
  },
  {
   "cell_type": "code",
   "execution_count": 9,
   "metadata": {},
   "outputs": [
    {
     "data": {
      "text/html": [
       "<div>\n",
       "<style scoped>\n",
       "    .dataframe tbody tr th:only-of-type {\n",
       "        vertical-align: middle;\n",
       "    }\n",
       "\n",
       "    .dataframe tbody tr th {\n",
       "        vertical-align: top;\n",
       "    }\n",
       "\n",
       "    .dataframe thead th {\n",
       "        text-align: right;\n",
       "    }\n",
       "</style>\n",
       "<table border=\"1\" class=\"dataframe\">\n",
       "  <thead>\n",
       "    <tr style=\"text-align: right;\">\n",
       "      <th></th>\n",
       "      <th>0</th>\n",
       "      <th>1</th>\n",
       "      <th>accuracy</th>\n",
       "      <th>macro avg</th>\n",
       "      <th>weighted avg</th>\n",
       "    </tr>\n",
       "  </thead>\n",
       "  <tbody>\n",
       "    <tr>\n",
       "      <th>precision</th>\n",
       "      <td>1.000000</td>\n",
       "      <td>0.807843</td>\n",
       "      <td>0.99393</td>\n",
       "      <td>0.903922</td>\n",
       "      <td>0.995096</td>\n",
       "    </tr>\n",
       "    <tr>\n",
       "      <th>recall</th>\n",
       "      <td>0.993771</td>\n",
       "      <td>1.000000</td>\n",
       "      <td>0.99393</td>\n",
       "      <td>0.996885</td>\n",
       "      <td>0.993930</td>\n",
       "    </tr>\n",
       "    <tr>\n",
       "      <th>f1-score</th>\n",
       "      <td>0.996876</td>\n",
       "      <td>0.893709</td>\n",
       "      <td>0.99393</td>\n",
       "      <td>0.945292</td>\n",
       "      <td>0.994243</td>\n",
       "    </tr>\n",
       "    <tr>\n",
       "      <th>support</th>\n",
       "      <td>7866.000000</td>\n",
       "      <td>206.000000</td>\n",
       "      <td>0.99393</td>\n",
       "      <td>8072.000000</td>\n",
       "      <td>8072.000000</td>\n",
       "    </tr>\n",
       "  </tbody>\n",
       "</table>\n",
       "</div>"
      ],
      "text/plain": [
       "                     0           1  accuracy    macro avg  weighted avg\n",
       "precision     1.000000    0.807843   0.99393     0.903922      0.995096\n",
       "recall        0.993771    1.000000   0.99393     0.996885      0.993930\n",
       "f1-score      0.996876    0.893709   0.99393     0.945292      0.994243\n",
       "support    7866.000000  206.000000   0.99393  8072.000000   8072.000000"
      ]
     },
     "execution_count": 9,
     "metadata": {},
     "output_type": "execute_result"
    }
   ],
   "source": [
    "from sklearn import metrics\n",
    "from sklearn.metrics import confusion_matrix\n",
    "res=pd.DataFrame(metrics.classification_report(true,predic, digits=4,target_names=[0,1],output_dict=True))\n",
    "res"
   ]
  },
  {
   "cell_type": "code",
   "execution_count": 10,
   "metadata": {},
   "outputs": [
    {
     "data": {
      "image/png": "[encoded data removed]",
      "text/plain": [
       "<Figure size 432x288 with 2 Axes>"
      ]
     },
     "metadata": {
      "needs_background": "light"
     },
     "output_type": "display_data"
    }
   ],
   "source": [
    "from sklearn.metrics import confusion_matrix\n",
    "import seaborn as sn\n",
    "import matplotlib.pyplot as plt\n",
    "def plot_matrix(y_true, y_pred,title_name):\n",
    "    cm = confusion_matrix(y_true, y_pred)#混淆矩阵\n",
    "    #annot = True 格上显示数字 ，fmt：显示数字的格式控制\n",
    "    ax = sn.heatmap(cm,annot=True,fmt='g',xticklabels=['0','1'],yticklabels=['0','1'])\n",
    "    #xticklabels、yticklabels指定横纵轴标签\n",
    "    ax.set_title(title_name) #标题\n",
    "    ax.set_xlabel('predict') #x轴\n",
    "    ax.set_ylabel('true') #y轴\n",
    "    return ax\n",
    "plot=plot_matrix(true,predic,'confusion matrix')\n",
    "# plt.savefig('Confusion Matrix/CNN.png')\n",
    "# 混淆矩阵"
   ]
  },
  {
   "cell_type": "code",
   "execution_count": 34,
   "metadata": {},
   "outputs": [
    {
     "data": {
      "image/png": "[encoded data removed]",
      "text/plain": [
       "<Figure size 432x288 with 1 Axes>"
      ]
     },
     "metadata": {
      "needs_background": "light"
     },
     "output_type": "display_data"
    }
   ],
   "source": [
    "import matplotlib.pyplot as plt\n",
    "from sklearn.metrics import roc_curve, auc\n",
    "\n",
    "y_true = true\n",
    "y_pred = torch.softmax(torch.Tensor(probe),axis=1)[:, 1].cpu().numpy()\n",
    "# 计算FPR和TPR\n",
    "fpr, tpr, thresholds = roc_curve(y_true, y_pred)\n",
    "roc_auc = auc(fpr, tpr)\n",
    "\n",
    "# 绘制ROC曲线\n",
    "plt.plot(fpr, tpr, color='darkorange', lw=2, label='ROC curve (AUC = %0.4f)' % roc_auc)\n",
    "plt.plot([0, 1], [0, 1], color='navy', lw=2, linestyle='--')\n",
    "plt.xlim([0.0, 1.0])\n",
    "plt.ylim([0.0, 1.05])\n",
    "plt.xlabel('False Positive Rate')\n",
    "plt.ylabel('True Positive Rate')\n",
    "plt.title('ROC Curve')\n",
    "plt.legend(loc=\"lower right\")\n",
    "plt.show()"
   ]
  }
 ],
 "metadata": {
  "kernelspec": {
   "display_name": "pytorch",
   "language": "python",
   "name": "python3"
  },
  "language_info": {
   "codemirror_mode": {
    "name": "ipython",
    "version": 3
   },
   "file_extension": ".py",
   "mimetype": "text/x-python",
   "name": "python",
   "nbconvert_exporter": "python",
   "pygments_lexer": "ipython3",
   "version": "3.9.12"
  },
  "orig_nbformat": 4
 },
 "nbformat": 4,
 "nbformat_minor": 2
}
